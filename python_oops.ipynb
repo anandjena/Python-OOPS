{
  "nbformat": 4,
  "nbformat_minor": 0,
  "metadata": {
    "colab": {
      "provenance": []
    },
    "kernelspec": {
      "name": "python3",
      "display_name": "Python 3"
    },
    "language_info": {
      "name": "python"
    }
  },
  "cells": [
    {
      "cell_type": "markdown",
      "source": [
        "1.What is Object-Oriented Programming (OOP)?\n",
        "- OOP is a programming approach that uses object and classes to organize and structure code.It focuses on classes,objects,encapsulation,inheritance,polymorphisim,abstraction methods which helps to create modular,reusable and maintainable code.\n",
        "\n",
        "2.What is a class in OOP?\n",
        "- In oop a class is a template or blueprint of creating objects. It defines the structure and behaviour of objects including their attributes and methods. Essentially class is user defined data-type that organizes  information and enables code reusable.\n",
        "\n",
        "3.What is an object in OOP?\n",
        "- In oop object is a instance of a class it is a real world entity that has both the attributes and methods that defines it behaviour.Object are created from a class and it represent to the specific class with their real values.\n",
        "\n",
        "4.What is the difference between abstraction and encapsulation?\n",
        "- In oop both are the key concepts but both serve diffrent purposes.\n",
        "Abstraction method focuses to on hidding complexity and showing only essential features of an object. But  encapsulation bundling all the methods and attrribute to a single class and access it with diffrent access modifiers like private,public and protected.\n",
        "\n",
        "5.What are dunder methods in Python?\n",
        "- In oop dunder method are alos known as magic method or special methods these are pre difined methods of python that allows you to define how your object behaves in certain situation.And it called byt double underscore by starting and ending of the name ex:- (__init__).\n",
        "\n",
        "6.Explain the concept of inheritance in OOP.\n",
        "- Inheritance in oop is a mechanism that allows a new class to acquire the attributes and methods of an existing class . It promotes code reuse and creates a natural relationship between classes, where the subclass extends or modifies the behavior of the parent class.\n",
        "\n",
        "7.What is polymorphism in OOP?\n",
        "- Polymorphism in oop is the ability of different objects to respond to the same method or operation in different ways. The word \"polymorphism\" comes from the Greek words \"poly\" (many) and \"morph\" (form), meaning \"many forms.\" It allows objects of different classes to be treated as objects of a common superclass, with each subclass having its own specific implementation of the method.\n",
        "\n",
        "8.How is encapsulation achieved in Python?\n",
        "- Encapsulation in Python is the concept of bundling attributes and the methods that operate on the data within a single class. It also involves restricting access to certain components of the object, making the internal workings of the class hidden from the outside world. This is done to prevent direct modification of the objects data and to provide controlled access through getter and setter methods.\n",
        "\n",
        "9.What is a constructor in Python?\n",
        "- A constructor in Python is a special method that is automatically called when an object is created. Its primary purpose is to initialize the attributes of the object with default or provided values. In Python, the constructor is defined using the __init__ method.\n",
        "\n",
        "10.What are class and static methods in Python?\n",
        "- The class method and static method both are the methods belongs to the class itself but there are some difference between both.\n",
        "The Classmethod  is a method that is bound to the class not the instance.It takes the class itslef as the first argument which is usally named as cls.Classmethod is defined as @classmethod.\n",
        "\n",
        "The static method is a method belongs to the class but does not have the access to the class or it instance iot works like a regular function but belongs to the class's namespace.It is defined as @staticmethod.\n",
        "\n",
        "11.What is method overloading in Python?\n",
        "- Method overloading in python refers to the ability to define multiple methods with same name but diffrent arguments.But like others python does not directly support method overloading by defining multiple methods with the same name but different parameters.\n",
        "\n",
        "12.What is method overriding in OOP?\n",
        "- In oop  method overriding refers to the process where a subclass  provides its own implementation of a method that is already defined in its superclass. This allows the subclass to modify or extend the behavior of the inherited method.\n",
        "\n",
        "13.What is a property decorator in Python?\n",
        "- In Python, the property decorator is used to turn a method into a read-only or read-write property. This allows you to define methods that can be accessed like attributes, but still maintain control over how the values are accessed or modified. It's a way to encapsulate attribute access and provide getter, setter, and deleter methods in a clean and Pythonic way.\n",
        "\n",
        "14.Why is polymorphism important in OOP?\n",
        "- Polymorphism is one of the core principles of oop, and it is crucial because it allows objects of different classes to be treated as objects of a common superclass. In simple terms, polymorphism enables different classes to provide a common interface and share common behavior, even though their internal implementations may differ.\n",
        "\n",
        "15.What is an abstract class in Python?\n",
        "- An abstract class in Python is a class that cannot be instantiated directly. It serves as a blueprint for other classes, providing a common interface and potentially some shared functionality. Abstract classes are used to define common methods that must be implemented by subclasses, ensuring that the subclasses adhere to a certain structure.\n",
        "\n",
        "16.What are the advantages of OOP?\n",
        "- OOP promotes code reusability, maintainability, and scalability by organizing code into self-contained objects with defined behaviors and attributes.\n",
        "\n",
        "17.What is the difference between a class variable and an instance variable?\n",
        "- A class variable can be shared  by all instance of the class. It is defined within the class but outside any methods. But instance varible is specific the particular instance of the class it is also defined within the methods and unique to eache instance of the class.\n",
        "\n",
        "18.What is multiple inheritance in Python?\n",
        "- In python multiple inheritance  refers to the ability of a class to inherit attributes and methods from more than one parent class. This allows a class to combine features from multiple parent classes, making it more versatile and reusable.\n",
        "\n",
        "19.Explain the purpose of ‘’__str__’ and ‘__repr__’ ‘ methods in Python.\n",
        "- In Python, both __str__ and __repr__ are special methods used to define how an object should be represented as a string, but they serve slightly different purposes:\n",
        "\n",
        "The __str__ method is used to define a \"user-friendly\" or informal string representation of an object, which is meant to be readable and understandable for the user.\n",
        "\n",
        "The __repr__ method is used to define a \"formal\" or unambiguous string representation of an object, which should ideally allow for reconstruction of the object when passed to eval() or should be a more detailed representation for debugging purposes.\n",
        "\n",
        "\n",
        "20.What is the significance of the ‘super()’ function in Python?\n",
        "- The super() function used to call a method from a parent or a superclass special in the context of inheritance.\n",
        "\n",
        "21.What is the significance of the __del__ method in Python?\n",
        "- The __del__ method is special method which automatically called when the object is about to destoryed.\n",
        "\n",
        "22.What is the difference between @staticmethod and @classmethod in Python?\n",
        "- The difference between @staticmethod and @classmethod in Python lies in what they receive as their first argument and how they interact with the class.\n",
        "\n",
        "In @staticmethod it doesn't take self or cls as the first argument it works like regular function but belongs to the class.\n",
        "\n",
        "In @classmethod it take class itself as the first argument by using namespace cls.It access or modify class variables and be used to create alternative constructors.\n",
        "\n",
        "\n",
        "23.How does polymorphism work in Python with inheritance?\n",
        "- Polymorphism in Python allows objects of different classes to be treated using a common interface, especially when those classes are related by inheritance.\n",
        "\n",
        "Ex:-\n",
        "\n",
        "class car:\n",
        "   def model(self):\n",
        "     return \"car model name\"\n",
        "\n",
        "\n",
        "class tyota(car):\n",
        "    def model(self):\n",
        "      return \"car model is tyoyta\"\n",
        "\n",
        "class bmw(car):\n",
        "    def model(self):\n",
        "      return \"car model is bmw\"\n",
        "\n",
        "obj = [tyota(),bmw()]\n",
        "\n",
        "for i in obj:\n",
        "    print(i.model())\n",
        "\n",
        "\n",
        "\n",
        "24.What is method chaining in Python OOP?\n",
        "- Method chaining in Python OOP is a technique where multiple methods are called in a single line, one after another, using the dot (.) operator. This works when each method returns self, allowing the next method to be called on the same object.\n",
        "\n",
        "25.What is the purpose of the __call__ method in Python?\n",
        "- The __call__ method in Python allows an instance of a class to be called like a function.\n"
      ],
      "metadata": {
        "id": "8YyrzCjEyEcd"
      }
    },
    {
      "cell_type": "markdown",
      "source": [
        "**Practical Questions**"
      ],
      "metadata": {
        "id": "lwdzR4OSJciK"
      }
    },
    {
      "cell_type": "code",
      "source": [
        "# 1. Create a parent class Animal with a method speak() that prints a generic message. Create a child class Dog that overrides the speak() method to print \"Bark!\".\n",
        "\n",
        "class Animal:\n",
        "    def speak(self):\n",
        "        print(\"Generic animal sound\")\n",
        "\n",
        "class Dog(Animal):\n",
        "    def speak(self):\n",
        "        print(\"Bark!\")\n",
        "\n",
        "dog = Dog()\n",
        "dog.speak()"
      ],
      "metadata": {
        "colab": {
          "base_uri": "https://localhost:8080/"
        },
        "id": "lOletY9_JgWe",
        "outputId": "37e22a5e-6dec-496a-d528-7041ff4c0514"
      },
      "execution_count": null,
      "outputs": [
        {
          "output_type": "stream",
          "name": "stdout",
          "text": [
            "Bark!\n"
          ]
        }
      ]
    },
    {
      "cell_type": "code",
      "source": [
        "# 2.Write a program to create an abstract class Shape with a method area(). Derive classes Circle and Rectangle from it and implement the area() method in both.\n",
        "\n",
        "from abc import ABC, abstractmethod\n",
        "import math\n",
        "\n",
        "# Abstract base class\n",
        "class Shape(ABC):\n",
        "    @abstractmethod\n",
        "    def area(self):\n",
        "        pass\n",
        "\n",
        "# Circle class\n",
        "class Circle(Shape):\n",
        "    def __init__(self, radius):\n",
        "        self.radius = radius\n",
        "\n",
        "    def area(self):\n",
        "        return math.pi * self.radius ** 2\n",
        "\n",
        "# Rectangle class\n",
        "class Rectangle(Shape):\n",
        "    def __init__(self, width, height):\n",
        "        self.width = width\n",
        "        self.height = height\n",
        "\n",
        "    def area(self):\n",
        "        return self.width * self.height\n",
        "\n",
        "# Example usage\n",
        "circle = Circle(3)\n",
        "rectangle = Rectangle(4, 5)\n",
        "\n",
        "print(\"Circle area:\", circle.area())\n",
        "print(\"Rectangle area:\", rectangle.area())\n",
        "\n"
      ],
      "metadata": {
        "colab": {
          "base_uri": "https://localhost:8080/"
        },
        "id": "g2oyZ_rMJ5IA",
        "outputId": "a22e216c-cc62-41cd-d0e1-38818848af1c"
      },
      "execution_count": null,
      "outputs": [
        {
          "output_type": "stream",
          "name": "stdout",
          "text": [
            "Circle area: 28.274333882308138\n",
            "Rectangle area: 20\n"
          ]
        }
      ]
    },
    {
      "cell_type": "code",
      "source": [
        "# 3. Implement a multi-level inheritance scenario where a class Vehicle has an attribute type. Derive a class Car and further derive a class ElectricCar that adds a battery attribute.\n",
        "\n",
        "# Base class\n",
        "class Vehicle:\n",
        "    def __init__(self, vehicle_type):\n",
        "        self.type = vehicle_type\n",
        "\n",
        "    def show_type(self):\n",
        "        print(f\"Vehicle Type: {self.type}\")\n",
        "\n",
        "# Derived class\n",
        "class Car(Vehicle):\n",
        "    def __init__(self, vehicle_type, brand):\n",
        "        super().__init__(vehicle_type)\n",
        "        self.brand = brand\n",
        "\n",
        "    def show_brand(self):\n",
        "        print(f\"Car Brand: {self.brand}\")\n",
        "\n",
        "# Further derived class\n",
        "class ElectricCar(Car):\n",
        "    def __init__(self, vehicle_type, brand, battery_capacity):\n",
        "        super().__init__(vehicle_type, brand)\n",
        "        self.battery = battery_capacity\n",
        "\n",
        "    def show_battery(self):\n",
        "        print(f\"Battery Capacity: {self.battery} kWh\")\n",
        "\n",
        "# Example usage\n",
        "e_car = ElectricCar(\"Four Wheeler\", \"Tesla\", 75)\n",
        "e_car.show_type()       # From Vehicle\n",
        "e_car.show_brand()      # From Car\n",
        "e_car.show_battery()    # From ElectricCar\n"
      ],
      "metadata": {
        "colab": {
          "base_uri": "https://localhost:8080/"
        },
        "id": "-BlSPrrQKcOG",
        "outputId": "3ec2af98-1653-45a9-8e58-28bd2e2aa543"
      },
      "execution_count": null,
      "outputs": [
        {
          "output_type": "stream",
          "name": "stdout",
          "text": [
            "Vehicle Type: Four Wheeler\n",
            "Car Brand: Tesla\n",
            "Battery Capacity: 75 kWh\n"
          ]
        }
      ]
    },
    {
      "cell_type": "code",
      "source": [
        "# 4. Demonstrate polymorphism by creating a base class Bird with a method fly(). Create two derived classes Sparrow and Penguin that override the fly() method.\n",
        "\n",
        "\n",
        "class Bird:\n",
        "    def fly(self):\n",
        "      print(\"Bird is flying\")\n",
        "\n",
        "class Sparrow(Bird):\n",
        "    def fly(self):\n",
        "      print(\"Sparrow is flying\")\n",
        "\n",
        "class Penguin(Bird):\n",
        "    def fly(self):\n",
        "      print(\"Penguin is not flying\")\n",
        "\n",
        "sparrow = Sparrow()\n",
        "penguin = Penguin()\n",
        "\n",
        "sparrow.fly()\n",
        "penguin.fly()\n",
        "\n",
        "\n"
      ],
      "metadata": {
        "colab": {
          "base_uri": "https://localhost:8080/"
        },
        "id": "r9m0npGWLsZk",
        "outputId": "49cd6d26-2166-421d-edf5-afa2af1d5280"
      },
      "execution_count": null,
      "outputs": [
        {
          "output_type": "stream",
          "name": "stdout",
          "text": [
            "Sparrow is flying\n",
            "Penguin is not flying\n"
          ]
        }
      ]
    },
    {
      "cell_type": "code",
      "source": [
        "#5.Write a program to demonstrate encapsulation by creating a class BankAccount with private attributes balance and methods to deposit, withdraw, and check balance.\n",
        "\n",
        "class BankAccount:\n",
        "\n",
        "    def __init__(self,balance):\n",
        "            self.__balance = balance\n",
        "\n",
        "    def deposit(self,amount):\n",
        "            self.__balance += amount\n",
        "    def withdraw(self,amount):\n",
        "            if amount <= self.__balance:\n",
        "                self.__balance -= amount\n",
        "            else:\n",
        "                print(\"No sufficent balance\")\n",
        "    def balance_check(self):\n",
        "        print(\"Total balance\", self.__balance)\n",
        "\n",
        "\n",
        "bank_obj = BankAccount(1500)\n",
        "bank_obj.balance_check()\n",
        "bank_obj.deposit(1000)\n",
        "bank_obj.withdraw(1500)\n",
        "bank_obj.balance_check()\n",
        "\n",
        "\n"
      ],
      "metadata": {
        "colab": {
          "base_uri": "https://localhost:8080/"
        },
        "id": "9s9P2KeTMuM3",
        "outputId": "37c82027-ba4a-4a46-88e2-98b0401f5a1f"
      },
      "execution_count": null,
      "outputs": [
        {
          "output_type": "stream",
          "name": "stdout",
          "text": [
            "Total balance 1500\n",
            "Total balance 1000\n"
          ]
        }
      ]
    },
    {
      "cell_type": "code",
      "source": [
        "# 6. Demonstrate runtime polymorphism using a method play() in a base class Instrument. Derive classes Guitar and Piano that implement their own version of play().\n",
        "\n",
        "class Instrument:\n",
        "    def play(self):\n",
        "        print(\"some need to be played\")\n",
        "\n",
        "\n",
        "class Guitar(Instrument):\n",
        "    def play(self):\n",
        "        print(\"Playing guitar\")\n",
        "\n",
        "class Piano(Instrument):\n",
        "    def play(self):\n",
        "        print(\"Playing piano\")\n",
        "\n",
        "\n",
        "instruments = [Guitar(),Piano()]\n",
        "\n",
        "for i in instruments:\n",
        "    i.play()\n",
        "\n",
        "\n"
      ],
      "metadata": {
        "colab": {
          "base_uri": "https://localhost:8080/"
        },
        "id": "xHwi_Sg6Ort3",
        "outputId": "ceac722e-ec8a-4761-c7e9-522082f19305"
      },
      "execution_count": null,
      "outputs": [
        {
          "output_type": "stream",
          "name": "stdout",
          "text": [
            "Playing guitar\n",
            "Playing piano\n"
          ]
        }
      ]
    },
    {
      "cell_type": "code",
      "source": [
        "# 7.Create a class MathOperations with a class method add_numbers() to add two numbers and a static method subtract_numbers() to subtract two numbers.\n",
        "\n",
        "class MathOperations:\n",
        "\n",
        "    @classmethod\n",
        "    def add_numbers(cls,x,y):\n",
        "        print(\"class name\",cls.__name__,\"Addition result:\",x+y)\n",
        "\n",
        "    @staticmethod\n",
        "    def subtract_numbers(x,y):\n",
        "        print(\"Substraction result:\",x-y)\n",
        "\n",
        "obj = MathOperations()\n",
        "obj.add_numbers(10,18)\n",
        "obj.subtract_numbers(20,9)"
      ],
      "metadata": {
        "colab": {
          "base_uri": "https://localhost:8080/"
        },
        "id": "Rb6RNoNzQHC_",
        "outputId": "bc59b918-857e-4d59-da66-bf8105053c8e"
      },
      "execution_count": null,
      "outputs": [
        {
          "output_type": "stream",
          "name": "stdout",
          "text": [
            "class name MathOperations Addition result: 28\n",
            "Substraction result: 11\n"
          ]
        }
      ]
    },
    {
      "cell_type": "code",
      "source": [
        "# 8. Implement a class Person with a class method to count the total number of persons created\n",
        "class person:\n",
        "    count = 0\n",
        "    def __init__(self,name):\n",
        "        self.name = name\n",
        "        person.count += 1\n",
        "\n",
        "    @classmethod\n",
        "    def totalcount(cls):\n",
        "        return cls.count\n",
        "\n",
        "obj = person(\"anand\")\n",
        "obj1 = person(\"anand 1\")\n",
        "obj2 = person(\"anand 2\")\n",
        "\n",
        "obj.totalcount()\n",
        "print(\"total person created:\",person.totalcount())"
      ],
      "metadata": {
        "colab": {
          "base_uri": "https://localhost:8080/"
        },
        "id": "MdcGshP1SGj9",
        "outputId": "09badaf6-581b-46db-9176-5bbd809ec5f7"
      },
      "execution_count": null,
      "outputs": [
        {
          "output_type": "stream",
          "name": "stdout",
          "text": [
            "total person created: 3\n"
          ]
        }
      ]
    },
    {
      "cell_type": "code",
      "source": [
        "# 9. Write a class Fraction with attributes numerator and denominator. Override the str method to display the fraction as \"numerator/denominator\".\n",
        "class Fraction:\n",
        "    def __init__(self, numerator, denominator):\n",
        "        if denominator == 0:\n",
        "            raise ValueError(\"Denominator cannot be zero.\")\n",
        "        self.numerator = numerator\n",
        "        self.denominator = denominator\n",
        "\n",
        "    def __str__(self):\n",
        "        return f\"{self.numerator}/{self.denominator}\"\n",
        "\n",
        "f = Fraction(3, 4)\n",
        "print(f)\n"
      ],
      "metadata": {
        "colab": {
          "base_uri": "https://localhost:8080/"
        },
        "id": "1zIR1Mx_Qip2",
        "outputId": "5f69f469-28c1-4507-ca68-71f0d06be0d5"
      },
      "execution_count": 1,
      "outputs": [
        {
          "output_type": "stream",
          "name": "stdout",
          "text": [
            "3/4\n"
          ]
        }
      ]
    },
    {
      "cell_type": "code",
      "source": [
        "# 10. Demonstrate operator overloading by creating a class Vector and overriding the add method to add two vectors.\n",
        "\n",
        "class Vector:\n",
        "    def __init__(self, x, y):\n",
        "        self.x = x\n",
        "        self.y = y\n",
        "\n",
        "    def __add__(self, other):\n",
        "        return Vector(self.x + other.x, self.y + other.y)\n",
        "\n",
        "    def __str__(self):\n",
        "        return f\"({self.x}, {self.y})\"\n",
        "\n",
        "v1 = Vector(2, 3)\n",
        "v2 = Vector(4, 1)\n",
        "v3 = v1 + v2\n",
        "\n",
        "print(v3)\n"
      ],
      "metadata": {
        "colab": {
          "base_uri": "https://localhost:8080/"
        },
        "id": "9m6CaJ-uQ_p_",
        "outputId": "95e6121b-4da4-4022-f522-64bf506b0416"
      },
      "execution_count": 4,
      "outputs": [
        {
          "output_type": "stream",
          "name": "stdout",
          "text": [
            "(6, 4)\n"
          ]
        }
      ]
    },
    {
      "cell_type": "code",
      "source": [
        "#11.Create a class Person with attributes name and age. Add a method greet() that prints \"Hello, my name is {name} and I am {age} years old.\"\n",
        "\n",
        "class Person:\n",
        "    def __init__(self,name,age):\n",
        "        self.name = name\n",
        "        self.age = age\n",
        "\n",
        "    def greet(self):\n",
        "      print(f\"Hello, my name is {self.name} and I am {self.age} years old.\")\n",
        "\n",
        "obj = Person(\"anand\",21)\n",
        "obj.greet()"
      ],
      "metadata": {
        "colab": {
          "base_uri": "https://localhost:8080/"
        },
        "id": "TLA7Z304RcvC",
        "outputId": "e3d8fadf-b5e5-4175-ea80-bbffb9ef8e42"
      },
      "execution_count": 6,
      "outputs": [
        {
          "output_type": "stream",
          "name": "stdout",
          "text": [
            "Hello, my name is anand and I am 21 years old.\n"
          ]
        }
      ]
    },
    {
      "cell_type": "code",
      "source": [
        "# 12. Implement a class Student with attributes name and grades. Create a method average_grade() to compute the average of the grades.\n",
        "\n",
        "class Student:\n",
        "    def __init__(self,name,grades):\n",
        "        self.name = name\n",
        "        self.grades = grades\n",
        "\n",
        "    def average_grade(self):\n",
        "        return sum(self.grades)/len(self.grades)\n",
        "\n",
        "obj = Student(\"anand\",[10,20,30,40])\n",
        "obj.average_grade()"
      ],
      "metadata": {
        "colab": {
          "base_uri": "https://localhost:8080/"
        },
        "id": "fIcV_vlCShgE",
        "outputId": "dd001489-d79a-4185-f569-0d0b27e257ee"
      },
      "execution_count": 7,
      "outputs": [
        {
          "output_type": "execute_result",
          "data": {
            "text/plain": [
              "25.0"
            ]
          },
          "metadata": {},
          "execution_count": 7
        }
      ]
    },
    {
      "cell_type": "code",
      "source": [
        "# 13. Create a class Rectangle with methods set_dimensions() to set the dimensions and area() to calculate the area.\n",
        "\n",
        "class Rectangle:\n",
        "    def __init__(self):\n",
        "        self.length = 0\n",
        "        self.width = 0\n",
        "\n",
        "    def set_dimensions(self, length, width):\n",
        "        self.length = length\n",
        "        self.width = width\n",
        "\n",
        "    def area(self):\n",
        "        return self.length * self.width\n",
        "\n",
        "rect = Rectangle()\n",
        "rect.set_dimensions(5, 3)\n",
        "print(\"Area:\", rect.area())"
      ],
      "metadata": {
        "colab": {
          "base_uri": "https://localhost:8080/"
        },
        "id": "bnPrhVWMS3n5",
        "outputId": "10639f20-e335-4de3-8bb7-6692328f74af"
      },
      "execution_count": 8,
      "outputs": [
        {
          "output_type": "stream",
          "name": "stdout",
          "text": [
            "Area: 15\n"
          ]
        }
      ]
    },
    {
      "cell_type": "code",
      "source": [
        "# 14.Create a class Employee with a method calculate_salary() that computes the salary based on hours worked and hourly rate. Create a derived class Manager that adds a bonus to the salary.\n",
        "\n",
        "class Employee:\n",
        "    def __init__(self,name,hours,rate):\n",
        "        self.name = name\n",
        "        self.hours = hours\n",
        "        self.rate = rate\n",
        "    def calculate_salary(self):\n",
        "        return self.hours * self.rate\n",
        "\n",
        "class Manager(Employee):\n",
        "        def __init__(self,name,hour,rate,bonus):\n",
        "            super().__init__(name,hour,rate)\n",
        "            self.bonus = bonus\n",
        "        def calculate_salary(self):\n",
        "            return super().calculate_salary() + self.bonus\n",
        "\n",
        "employee_obj = Employee(\"anand\",60,800)\n",
        "manager_obj = Manager(\"annad\",60,800,1500)\n",
        "\n",
        "print(\"Emaployee actual salary:\",employee_obj.calculate_salary())\n",
        "\n",
        "print(\"Employee salary after bonus:\",manager_obj.calculate_salary())"
      ],
      "metadata": {
        "colab": {
          "base_uri": "https://localhost:8080/"
        },
        "id": "2qx7JSmcTP_k",
        "outputId": "d08ef2f0-86e3-4fe8-f9fe-c231bcd9fe7b"
      },
      "execution_count": 9,
      "outputs": [
        {
          "output_type": "stream",
          "name": "stdout",
          "text": [
            "Emaployee actual salary: 48000\n",
            "Employee salary after bonus: 49500\n"
          ]
        }
      ]
    },
    {
      "cell_type": "code",
      "source": [
        "# 15.Create a class Product with attributes name, price, and quantity. Implement a method total_price() that calculates the total price of the product.\n",
        "class Product:\n",
        "    def __init__(self,name,price,quantity):\n",
        "        self.name = name\n",
        "        self.price = price\n",
        "        self.quantity = quantity\n",
        "\n",
        "    def calculate_total(self):\n",
        "        total_price = self.quantity * self.price\n",
        "        print (f\"Total price of the item {self.name} and the total price is {total_price}\")\n",
        "\n",
        "obj = Product('laptop',15,500)\n",
        "obj.calculate_total()"
      ],
      "metadata": {
        "colab": {
          "base_uri": "https://localhost:8080/"
        },
        "id": "AyviaAI8VTg-",
        "outputId": "ab590578-b435-4e0a-d9f1-7c5e650c887c"
      },
      "execution_count": 10,
      "outputs": [
        {
          "output_type": "stream",
          "name": "stdout",
          "text": [
            "Total price of the item laptop and the total price is 7500\n"
          ]
        }
      ]
    },
    {
      "cell_type": "code",
      "source": [
        "# 16. Create a class Animal with an abstract method sound(). Create two derived classes Cow and Sheep that implement the sound() method.\n",
        "\n",
        "from abc import ABC , abstractmethod\n",
        "\n",
        "class Animal:\n",
        "    @abstractmethod\n",
        "    def sound(self):\n",
        "        pass\n",
        "\n",
        "class Cow(Animal):\n",
        "    def sound(self):\n",
        "        print(\"Moo\")\n",
        "\n",
        "class Sheep(Animal):\n",
        "    def sound(self):\n",
        "        print (\"Baa\")\n",
        "\n",
        "obj = [Cow(),Sheep()]\n",
        "\n",
        "for i in obj:\n",
        "    i.sound()"
      ],
      "metadata": {
        "colab": {
          "base_uri": "https://localhost:8080/"
        },
        "id": "pJoGUqpeXdoM",
        "outputId": "b5b06efd-17dd-4f38-aec7-313cbfe46894"
      },
      "execution_count": 12,
      "outputs": [
        {
          "output_type": "stream",
          "name": "stdout",
          "text": [
            "Moo\n",
            "Baa\n"
          ]
        }
      ]
    },
    {
      "cell_type": "code",
      "source": [
        "# 17. Create a class Book with attributes title, author, and year_published. Add a method get_book_info() that returns a formatted string with the book's details.\n",
        "\n",
        "class Book:\n",
        "    def __init__(self, title, author, year_published):\n",
        "        self.title = title\n",
        "        self.author = author\n",
        "        self.year_published = year_published\n",
        "\n",
        "    def get_book_info(self):\n",
        "        return f\"'{self.title}' by {self.author}, published in {self.year_published}.\"\n",
        "\n",
        "\n",
        "book = Book(\"1984\", \"George Orwell\", 1949)\n",
        "print(book.get_book_info())\n",
        "\n",
        "\n",
        "\n"
      ],
      "metadata": {
        "colab": {
          "base_uri": "https://localhost:8080/"
        },
        "id": "kbZoxoLpZbir",
        "outputId": "ee77f27b-cb48-4cb4-912c-3a84b6438916"
      },
      "execution_count": 13,
      "outputs": [
        {
          "output_type": "stream",
          "name": "stdout",
          "text": [
            "'1984' by George Orwell, published in 1949.\n"
          ]
        }
      ]
    },
    {
      "cell_type": "code",
      "source": [
        "# 18.Create a class House with attributes address and price. Create a derived class Mansion that adds an attribute number_of_rooms.\n",
        "\n",
        "class House:\n",
        "    def __init__(self, address, price):\n",
        "        self.address = address\n",
        "        self.price = price\n",
        "\n",
        "    def get_info(self):\n",
        "        return f\"House at {self.address}, priced at Rs{self.price}\"\n",
        "\n",
        "class Mansion(House):\n",
        "    def __init__(self, address, price, number_of_rooms):\n",
        "        super().__init__(address, price)\n",
        "        self.number_of_rooms = number_of_rooms\n",
        "\n",
        "    def get_info(self):\n",
        "        return f\"Mansion at {self.address}, priced at Rs{self.price}, with {self.number_of_rooms} rooms\"\n",
        "\n",
        "\n",
        "h = House(\"Bhubaneswar\", 250000)\n",
        "print(h.get_info())\n",
        "\n",
        "m = Mansion(\"Mumbai\", 1200000, 12)\n",
        "print(m.get_info())\n"
      ],
      "metadata": {
        "colab": {
          "base_uri": "https://localhost:8080/"
        },
        "id": "rkiTrgvgZ5Lw",
        "outputId": "505121e8-3c86-400e-d126-d1a23c42f10e"
      },
      "execution_count": 16,
      "outputs": [
        {
          "output_type": "stream",
          "name": "stdout",
          "text": [
            "House at Bhubaneswar, priced at Rs250000\n",
            "Mansion at Mumbai, priced at Rs1200000, with 12 rooms\n"
          ]
        }
      ]
    }
  ]
}